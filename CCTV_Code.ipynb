{
  "nbformat": 4,
  "nbformat_minor": 0,
  "metadata": {
    "colab": {
      "provenance": [],
      "authorship_tag": "ABX9TyPmDH9IC53lCWlRqibLSslS",
      "include_colab_link": true
    },
    "kernelspec": {
      "name": "python3",
      "display_name": "Python 3"
    },
    "language_info": {
      "name": "python"
    }
  },
  "cells": [
    {
      "cell_type": "markdown",
      "metadata": {
        "id": "view-in-github",
        "colab_type": "text"
      },
      "source": [
        "<a href=\"https://colab.research.google.com/github/123Cub123Cub1234/CCTV-Computer-Vision-Analysis/blob/main/CCTV_Code.ipynb\" target=\"_parent\"><img src=\"https://colab.research.google.com/assets/colab-badge.svg\" alt=\"Open In Colab\"/></a>"
      ]
    },
    {
      "cell_type": "markdown",
      "source": [
        "# **Data Set Material:**\n",
        "\n",
        "\n",
        "\n",
        "## * https://camel.ece.gatech.edu/\n",
        "## * https://www.crcv.ucf.edu/projects/real-world/\n",
        "## * https://viratdata.org/\n",
        "\n",
        "\n",
        "\n",
        "My idea is to combine the two datasets and make it so that the cameras are detecting crimes from the infrared CCTV systems itself.\n",
        "\n",
        "\n",
        "\n",
        "\n",
        "\n",
        "\n",
        "\n",
        "\n",
        "\n"
      ],
      "metadata": {
        "id": "CaqF_a6EKjcR"
      }
    },
    {
      "cell_type": "markdown",
      "source": [
        "# **Idea Pipeline:**\n",
        "\n",
        "\n",
        "1.   Convert a standard image into near-infrared images along with the labels   stored\n",
        "2.   Take the newly converted images and pump into a pipeline for seeing crimes\n",
        "3. Report findings\n",
        "\n",
        "\n",
        "\n"
      ],
      "metadata": {
        "id": "B9sMbUhKPUjB"
      }
    },
    {
      "cell_type": "code",
      "source": [
        "import tensorflow as tf\n",
        "from tensorflow import keras\n",
        "import cv2\n",
        "import matplotlib as plt\n",
        "import numpy as np\n",
        "import pandas as pd\n",
        "import os"
      ],
      "metadata": {
        "id": "H2fCGgL_XmDY"
      },
      "execution_count": null,
      "outputs": []
    },
    {
      "cell_type": "code",
      "source": [
        "# NEED TO MODIFY THIS CODE SO IT RUNS THROUGH A WHOLE FILE OF VIDEOS TO STORE THE FRAMES!\n",
        "\n",
        "video_path = 'VIRAT_S_010204_05_000856_000890.mp4'\n",
        "frames_folder = 'frames_output'\n",
        "\n",
        "def frames(video_path, output_folder):\n",
        "    # Check if the output folder exists, and if not, create it\n",
        "    if not os.path.exists(output_folder):\n",
        "        os.makedirs(output_folder)\n",
        "        print(f\"Created output folder: {output_folder}\")\n",
        "    else:\n",
        "        # Clear existing files in the output folder\n",
        "        files = os.listdir(output_folder)\n",
        "        for file in files:\n",
        "            file_path = os.path.join(output_folder, file)\n",
        "            if os.path.isfile(file_path):\n",
        "                os.remove(file_path)\n",
        "        print(f\"Cleared existing files in output folder: {output_folder}\")\n",
        "\n",
        "    video = cv2.VideoCapture(video_path)\n",
        "\n",
        "    if not video.isOpened():\n",
        "        print(\"Error: Unable to open video.\")\n",
        "        return\n",
        "\n",
        "    # Get some properties of the video\n",
        "    fps = video.get(cv2.CAP_PROP_FPS)\n",
        "    frame_count = int(video.get(cv2.CAP_PROP_FRAME_COUNT))\n",
        "    width = int(video.get(cv2.CAP_PROP_FRAME_WIDTH))\n",
        "    height = int(video.get(cv2.CAP_PROP_FRAME_HEIGHT))\n",
        "\n",
        "    print(f\"Video FPS: {fps}, Frame count: {frame_count}, Resolution: {width}x{height}\")\n",
        "\n",
        "    # Loop through each frame and save it as a grayscale infrared image\n",
        "    frame_number = 0\n",
        "    while True:\n",
        "        ret, frame = video.read()\n",
        "        if not ret:\n",
        "            break\n",
        "\n",
        "        # Convert the frame to grayscale\n",
        "        gray_frame = cv2.cvtColor(frame, cv2.COLOR_BGR2GRAY)\n",
        "\n",
        "        # Apply a colormap for grayscale infrared visualization\n",
        "        colormap_frame = cv2.applyColorMap(gray_frame, cv2.COLORMAP_JET)\n",
        "\n",
        "        # Convert the colored image back to grayscale\n",
        "        grayscale_infrared_frame = cv2.cvtColor(colormap_frame, cv2.COLOR_BGR2GRAY)\n",
        "\n",
        "        # Save the grayscale infrared frame\n",
        "        frame_filename = f\"{output_folder}/grayscale_infrared_frame_{frame_number}.jpg\"\n",
        "        cv2.imwrite(frame_filename, grayscale_infrared_frame)\n",
        "\n",
        "        frame_number += 1\n",
        "\n",
        "    # Release the video object\n",
        "    video.release()\n",
        "\n",
        "frames(video_path, frames_folder)"
      ],
      "metadata": {
        "id": "skYKnWKhX7mO",
        "colab": {
          "base_uri": "https://localhost:8080/"
        },
        "outputId": "35d821cf-b038-4384-a904-b30584e433cc"
      },
      "execution_count": 13,
      "outputs": [
        {
          "output_type": "stream",
          "name": "stdout",
          "text": [
            "Cleared existing files in output folder: frames_output\n",
            "Video FPS: 23.97, Frame count: 584, Resolution: 1280x720\n"
          ]
        }
      ]
    },
    {
      "cell_type": "code",
      "source": [
        "import cv2\n",
        "import os\n",
        "\n",
        "def frames_to_video(frames_folder, output_video_path, fps):\n",
        "    # Get the list of frame filenames and sort them\n",
        "    frame_filenames = sorted([f for f in os.listdir(frames_folder) if f.endswith('.jpg')], key=lambda x: int(x.split('_')[-1].split('.')[0]))\n",
        "\n",
        "    # Read the first frame to get frame size\n",
        "    first_frame = cv2.imread(os.path.join(frames_folder, frame_filenames[0]))\n",
        "    frame_height, frame_width, _ = first_frame.shape\n",
        "\n",
        "    fourcc = cv2.VideoWriter_fourcc(*'mp4v')\n",
        "    video_writer = cv2.VideoWriter(output_video_path, fourcc, fps, (frame_width, frame_height))\n",
        "\n",
        "    # Write frames to video\n",
        "    for filename in frame_filenames:\n",
        "        frame_path = os.path.join(frames_folder, filename)\n",
        "        frame = cv2.imread(frame_path)\n",
        "        video_writer.write(frame)\n",
        "\n",
        "    video_writer.release()\n",
        "\n",
        "    print(f\"Video saved at: {output_video_path}\")\n",
        "\n",
        "# Example usage:\n",
        "frames_folder = 'frames_output'\n",
        "output_video_path = 'output_video.mp4'\n",
        "fps = 25\n",
        "frames_to_video(frames_folder, output_video_path, fps)"
      ],
      "metadata": {
        "colab": {
          "base_uri": "https://localhost:8080/"
        },
        "id": "k8nF_owCaViJ",
        "outputId": "0375d789-2b10-4fcd-b589-704d339792c8"
      },
      "execution_count": 17,
      "outputs": [
        {
          "output_type": "stream",
          "name": "stdout",
          "text": [
            "Video saved at: output_video.mp4\n"
          ]
        }
      ]
    }
  ]
}